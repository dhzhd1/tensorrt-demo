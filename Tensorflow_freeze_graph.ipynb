{
 "cells": [
  {
   "cell_type": "code",
   "execution_count": 1,
   "metadata": {
    "collapsed": true
   },
   "outputs": [],
   "source": [
    "import os\n",
    "import tensorflow as tf\n",
    "from tensorflow.python.framework import graph_io\n",
    "\n",
    "import model"
   ]
  },
  {
   "cell_type": "markdown",
   "metadata": {
    "collapsed": true
   },
   "source": [
    "## Settings"
   ]
  },
  {
   "cell_type": "code",
   "execution_count": 2,
   "metadata": {
    "collapsed": true
   },
   "outputs": [],
   "source": [
    "OUTPUT_NAMES = ['net/fc8/BiasAdd'] # ADJUST\n",
    "INPUT_SIZE = [1, 224, 224, 3] # ADJUST\n",
    "MODEL_PATH = 'output/vggA_BN/' # ADJUST\n",
    "FROZEN_FPATH = 'data/frozen.pb' # ADJUST"
   ]
  },
  {
   "cell_type": "markdown",
   "metadata": {},
   "source": [
    "## Create TF graph for inference"
   ]
  },
  {
   "cell_type": "code",
   "execution_count": 3,
   "metadata": {
    "collapsed": true
   },
   "outputs": [],
   "source": [
    "graph = tf.Graph()\n",
    "with graph.as_default():    \n",
    "    with tf.variable_scope('net'):\n",
    "        net_inp = tf.placeholder(tf.float32, INPUT_SIZE, name='input')\n",
    "        net_out = model.model(net_inp, is_training=False)\n",
    "    saver = tf.train.Saver()"
   ]
  },
  {
   "cell_type": "markdown",
   "metadata": {},
   "source": [
    "## Create TF session and load snapshot"
   ]
  },
  {
   "cell_type": "code",
   "execution_count": 4,
   "metadata": {},
   "outputs": [
    {
     "name": "stdout",
     "output_type": "stream",
     "text": [
      "INFO:tensorflow:Restoring parameters from output/vggA_BN/model.ckpt-40372\n"
     ]
    }
   ],
   "source": [
    "sess_config = tf.ConfigProto()\n",
    "sess_config.gpu_options.allow_growth = True\n",
    "sess = tf.Session(graph=graph, config=sess_config)\n",
    "snapshot_fpath = tf.train.latest_checkpoint(MODEL_PATH)\n",
    "saver.restore(sess, snapshot_fpath)"
   ]
  },
  {
   "cell_type": "markdown",
   "metadata": {},
   "source": [
    "## Freeze graph"
   ]
  },
  {
   "cell_type": "code",
   "execution_count": 5,
   "metadata": {},
   "outputs": [
    {
     "name": "stdout",
     "output_type": "stream",
     "text": [
      "INFO:tensorflow:Froze 38 variables.\n",
      "Converted 38 variables to const ops.\n"
     ]
    },
    {
     "data": {
      "text/plain": [
       "'./data/frozen.pb'"
      ]
     },
     "execution_count": 5,
     "metadata": {},
     "output_type": "execute_result"
    }
   ],
   "source": [
    "graphdef_inf = tf.graph_util.remove_training_nodes(graph.as_graph_def())\n",
    "\n",
    "graphdef_frozen = tf.graph_util.convert_variables_to_constants(\n",
    "    sess, graphdef_inf, OUTPUT_NAMES)\n",
    "\n",
    "graph_io.write_graph(graphdef_frozen, './', FROZEN_FPATH, as_text=False)"
   ]
  },
  {
   "cell_type": "markdown",
   "metadata": {},
   "source": [
    "## List frozen nodes"
   ]
  },
  {
   "cell_type": "code",
   "execution_count": 8,
   "metadata": {},
   "outputs": [
    {
     "data": {
      "text/plain": [
       "['net/input',\n",
       " 'net/Sub/y',\n",
       " 'net/Sub',\n",
       " 'net/conv1_1/weights',\n",
       " 'net/conv1_1/Conv2D',\n",
       " 'net/conv1_1/BatchNorm/Const',\n",
       " 'net/conv1_1/BatchNorm/beta',\n",
       " 'net/conv1_1/BatchNorm/moving_mean',\n",
       " 'net/conv1_1/BatchNorm/moving_variance',\n",
       " 'net/conv1_1/BatchNorm/FusedBatchNorm',\n",
       " 'net/conv1_1/Relu',\n",
       " 'net/pool1/MaxPool',\n",
       " 'net/conv2_1/weights',\n",
       " 'net/conv2_1/Conv2D',\n",
       " 'net/conv2_1/BatchNorm/Const',\n",
       " 'net/conv2_1/BatchNorm/beta',\n",
       " 'net/conv2_1/BatchNorm/moving_mean',\n",
       " 'net/conv2_1/BatchNorm/moving_variance',\n",
       " 'net/conv2_1/BatchNorm/FusedBatchNorm',\n",
       " 'net/conv2_1/Relu',\n",
       " 'net/pool2/MaxPool',\n",
       " 'net/conv3_1/weights',\n",
       " 'net/conv3_1/Conv2D',\n",
       " 'net/conv3_1/BatchNorm/Const',\n",
       " 'net/conv3_1/BatchNorm/beta',\n",
       " 'net/conv3_1/BatchNorm/moving_mean',\n",
       " 'net/conv3_1/BatchNorm/moving_variance',\n",
       " 'net/conv3_1/BatchNorm/FusedBatchNorm',\n",
       " 'net/conv3_1/Relu',\n",
       " 'net/conv3_2/weights',\n",
       " 'net/conv3_2/Conv2D',\n",
       " 'net/conv3_2/BatchNorm/Const',\n",
       " 'net/conv3_2/BatchNorm/beta',\n",
       " 'net/conv3_2/BatchNorm/moving_mean',\n",
       " 'net/conv3_2/BatchNorm/moving_variance',\n",
       " 'net/conv3_2/BatchNorm/FusedBatchNorm',\n",
       " 'net/conv3_2/Relu',\n",
       " 'net/pool3/MaxPool',\n",
       " 'net/conv4_1/weights',\n",
       " 'net/conv4_1/Conv2D',\n",
       " 'net/conv4_1/BatchNorm/Const',\n",
       " 'net/conv4_1/BatchNorm/beta',\n",
       " 'net/conv4_1/BatchNorm/moving_mean',\n",
       " 'net/conv4_1/BatchNorm/moving_variance',\n",
       " 'net/conv4_1/BatchNorm/FusedBatchNorm',\n",
       " 'net/conv4_1/Relu',\n",
       " 'net/conv4_2/weights',\n",
       " 'net/conv4_2/Conv2D',\n",
       " 'net/conv4_2/BatchNorm/Const',\n",
       " 'net/conv4_2/BatchNorm/beta',\n",
       " 'net/conv4_2/BatchNorm/moving_mean',\n",
       " 'net/conv4_2/BatchNorm/moving_variance',\n",
       " 'net/conv4_2/BatchNorm/FusedBatchNorm',\n",
       " 'net/conv4_2/Relu',\n",
       " 'net/pool4/MaxPool',\n",
       " 'net/conv5_1/weights',\n",
       " 'net/conv5_1/Conv2D',\n",
       " 'net/conv5_1/BatchNorm/Const',\n",
       " 'net/conv5_1/BatchNorm/beta',\n",
       " 'net/conv5_1/BatchNorm/moving_mean',\n",
       " 'net/conv5_1/BatchNorm/moving_variance',\n",
       " 'net/conv5_1/BatchNorm/FusedBatchNorm',\n",
       " 'net/conv5_1/Relu',\n",
       " 'net/conv5_2/weights',\n",
       " 'net/conv5_2/Conv2D',\n",
       " 'net/conv5_2/BatchNorm/Const',\n",
       " 'net/conv5_2/BatchNorm/beta',\n",
       " 'net/conv5_2/BatchNorm/moving_mean',\n",
       " 'net/conv5_2/BatchNorm/moving_variance',\n",
       " 'net/conv5_2/BatchNorm/FusedBatchNorm',\n",
       " 'net/conv5_2/Relu',\n",
       " 'net/pool5/MaxPool',\n",
       " 'net/Flatten/flatten/Shape',\n",
       " 'net/Flatten/flatten/strided_slice/stack',\n",
       " 'net/Flatten/flatten/strided_slice/stack_1',\n",
       " 'net/Flatten/flatten/strided_slice/stack_2',\n",
       " 'net/Flatten/flatten/strided_slice',\n",
       " 'net/Flatten/flatten/Reshape/shape/1',\n",
       " 'net/Flatten/flatten/Reshape/shape',\n",
       " 'net/Flatten/flatten/Reshape',\n",
       " 'net/fc6/weights',\n",
       " 'net/fc6/biases',\n",
       " 'net/fc6/MatMul',\n",
       " 'net/fc6/BiasAdd',\n",
       " 'net/fc6/Relu',\n",
       " 'net/fc7/weights',\n",
       " 'net/fc7/biases',\n",
       " 'net/fc7/MatMul',\n",
       " 'net/fc7/BiasAdd',\n",
       " 'net/fc7/Relu',\n",
       " 'net/fc8/weights',\n",
       " 'net/fc8/biases',\n",
       " 'net/fc8/MatMul',\n",
       " 'net/fc8/BiasAdd']"
      ]
     },
     "execution_count": 8,
     "metadata": {},
     "output_type": "execute_result"
    }
   ],
   "source": [
    "[x.name for x in graphdef_frozen.node]"
   ]
  },
  {
   "cell_type": "markdown",
   "metadata": {
    "collapsed": true
   },
   "source": [
    "## Export frozen graph for visualization"
   ]
  },
  {
   "cell_type": "code",
   "execution_count": 7,
   "metadata": {},
   "outputs": [
    {
     "data": {
      "text/plain": [
       "<tensorflow.python.summary.writer.writer.FileWriter at 0x7fa7f53d5128>"
      ]
     },
     "execution_count": 7,
     "metadata": {},
     "output_type": "execute_result"
    }
   ],
   "source": [
    "graph_frozen = tf.Graph()\n",
    "with graph_frozen.as_default():\n",
    "    tf.import_graph_def(graphdef_frozen)\n",
    "_=tf.summary.FileWriter('output/vggA_BN_frozen/', graph_frozen)"
   ]
  },
  {
   "cell_type": "code",
   "execution_count": null,
   "metadata": {
    "collapsed": true
   },
   "outputs": [],
   "source": []
  },
  {
   "cell_type": "code",
   "execution_count": null,
   "metadata": {
    "collapsed": true
   },
   "outputs": [],
   "source": []
  },
  {
   "cell_type": "code",
   "execution_count": null,
   "metadata": {
    "collapsed": true
   },
   "outputs": [],
   "source": []
  },
  {
   "cell_type": "code",
   "execution_count": null,
   "metadata": {
    "collapsed": true
   },
   "outputs": [],
   "source": []
  },
  {
   "cell_type": "code",
   "execution_count": null,
   "metadata": {
    "collapsed": true
   },
   "outputs": [],
   "source": []
  },
  {
   "cell_type": "code",
   "execution_count": null,
   "metadata": {
    "collapsed": true
   },
   "outputs": [],
   "source": []
  }
 ],
 "metadata": {
  "kernelspec": {
   "display_name": "Python 2",
   "language": "python",
   "name": "python2"
  },
  "language_info": {
   "codemirror_mode": {
    "name": "ipython",
    "version": 2
   },
   "file_extension": ".py",
   "mimetype": "text/x-python",
   "name": "python",
   "nbconvert_exporter": "python",
   "pygments_lexer": "ipython2",
   "version": "2.7.12"
  }
 },
 "nbformat": 4,
 "nbformat_minor": 2
}
