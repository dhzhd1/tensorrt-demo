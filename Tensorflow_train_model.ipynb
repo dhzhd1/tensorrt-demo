{
 "cells": [
  {
   "cell_type": "code",
   "execution_count": 1,
   "metadata": {},
   "outputs": [
    {
     "name": "stdout",
     "output_type": "stream",
     "text": [
      "WARNING:tensorflow:From /usr/local/lib/python2.7/dist-packages/tensorflow/contrib/learn/python/learn/datasets/base.py:198: retry (from tensorflow.contrib.learn.python.learn.datasets.base) is deprecated and will be removed in a future version.\n",
      "Instructions for updating:\n",
      "Use the retry module or similar alternatives.\n"
     ]
    }
   ],
   "source": [
    "import numpy as np\n",
    "\n",
    "import tensorflow as tf\n",
    "import tensorflow.contrib.slim as slim\n",
    "\n",
    "import data_provider\n",
    "import model"
   ]
  },
  {
   "cell_type": "markdown",
   "metadata": {},
   "source": [
    "## Settings"
   ]
  },
  {
   "cell_type": "code",
   "execution_count": 2,
   "metadata": {},
   "outputs": [],
   "source": [
    "TRAIN_DATA_ROOT = '/data/ImageNet/train/' # ADJUST\n",
    "TRAIN_LIST_FILE = '/data/ImageNet/labels/train.txt' # ADJUST\n",
    "\n",
    "BATCH_SIZE = 64  # ADJUST\n",
    "CROP_SIZE = 224 # ADJUST\n",
    "CLASSES = [281, 239] # Tabby cat, Bernese mountain dog\n",
    "LR_START = 0.01 # ADJUST\n",
    "LR_END = LR_START / 1e4 # ADJUST\n",
    "MOMENTUM = 0.9 # ADJUST\n",
    "NUM_EPOCHS = 1000 # ADJUST\n",
    "OUTPUT_ROOT = '/data/logs/vggA_BN' # ADJUST\n",
    "LOG_EVERY_N = 10 # ADJUST"
   ]
  },
  {
   "cell_type": "markdown",
   "metadata": {},
   "source": [
    "## Preapre training data queue"
   ]
  },
  {
   "cell_type": "code",
   "execution_count": 3,
   "metadata": {},
   "outputs": [
    {
     "name": "stdout",
     "output_type": "stream",
     "text": [
      "Number of train samples: 2600\n",
      "Number of train iterations: 40625\n"
     ]
    }
   ],
   "source": [
    "train_image, train_label, num_samples = data_provider.imagenet_data(\n",
    "    TRAIN_DATA_ROOT,\n",
    "    TRAIN_LIST_FILE,\n",
    "    batch_size=BATCH_SIZE,\n",
    "    crop_size=(CROP_SIZE, CROP_SIZE),\n",
    "    classes=CLASSES,\n",
    ")\n",
    "\n",
    "iters = NUM_EPOCHS * num_samples // BATCH_SIZE\n",
    "print('Number of train samples: {}'.format(num_samples))\n",
    "print('Number of train iterations: {}'.format(iters))"
   ]
  },
  {
   "cell_type": "markdown",
   "metadata": {},
   "source": [
    "## Build network graph"
   ]
  },
  {
   "cell_type": "code",
   "execution_count": 4,
   "metadata": {},
   "outputs": [],
   "source": [
    "with tf.variable_scope('net'):\n",
    "    logits = model.model(train_image, is_training=True)"
   ]
  },
  {
   "cell_type": "markdown",
   "metadata": {},
   "source": [
    "## Add loss function"
   ]
  },
  {
   "cell_type": "code",
   "execution_count": 5,
   "metadata": {},
   "outputs": [],
   "source": [
    "with tf.name_scope('loss'):\n",
    "    loss = tf.losses.sparse_softmax_cross_entropy(\n",
    "        labels=train_label, logits=logits)\n",
    "_=tf.summary.scalar('loss/loss', loss)"
   ]
  },
  {
   "cell_type": "markdown",
   "metadata": {},
   "source": [
    "## Setup training parameters and structures"
   ]
  },
  {
   "cell_type": "code",
   "execution_count": 6,
   "metadata": {},
   "outputs": [
    {
     "name": "stdout",
     "output_type": "stream",
     "text": [
      "WARNING:tensorflow:From <ipython-input-6-6b29a81690fc>:13: __init__ (from tensorflow.python.training.supervisor) is deprecated and will be removed in a future version.\n",
      "Instructions for updating:\n",
      "Please switch to tf.train.MonitoredTrainingSession\n"
     ]
    }
   ],
   "source": [
    "global_step = tf.train.get_or_create_global_step()\n",
    "\n",
    "lr = tf.train.polynomial_decay(LR_START, global_step, iters, LR_END)\n",
    "tf.summary.scalar('learning_rate', lr)\n",
    "\n",
    "optimizer = tf.train.MomentumOptimizer(learning_rate=lr, momentum=MOMENTUM)\n",
    "train_op = slim.learning.create_train_op(loss, \n",
    "    optimizer, global_step=global_step)\n",
    "\n",
    "supervisor = tf.train.Supervisor(logdir=OUTPUT_ROOT,\n",
    "    global_step=global_step,\n",
    "    save_summaries_secs=60, # ADJUST\n",
    "    save_model_secs=300, # ADJUST\n",
    ")"
   ]
  },
  {
   "cell_type": "markdown",
   "metadata": {},
   "source": [
    "## Run training loop"
   ]
  },
  {
   "cell_type": "code",
   "execution_count": 7,
   "metadata": {},
   "outputs": [
    {
     "name": "stdout",
     "output_type": "stream",
     "text": [
      "INFO:tensorflow:Running local_init_op.\n",
      "INFO:tensorflow:Done running local_init_op.\n",
      "INFO:tensorflow:Starting standard services.\n",
      "INFO:tensorflow:Starting queue runners.\n",
      "INFO:tensorflow:Saving checkpoint to path /data/logs/vggA_BN/model.ckpt\n",
      "INFO:tensorflow:global_step/sec: 0\n",
      "INFO:tensorflow:Recording summary at step 0.\n",
      "[0 / 40625] loss_net = 0.83679741621\n",
      "[10 / 40625] loss_net = 0.723195254803\n",
      "[20 / 40625] loss_net = 1.42143285275\n",
      "[30 / 40625] loss_net = 1.17433404922\n",
      "INFO:tensorflow:global_step/sec: 0.550915\n",
      "INFO:tensorflow:Recording summary at step 33.\n",
      "[40 / 40625] loss_net = 0.824943423271\n",
      "[50 / 40625] loss_net = 0.632728517056\n",
      "[60 / 40625] loss_net = 0.682134866714\n",
      "[70 / 40625] loss_net = 0.819607257843\n",
      "[80 / 40625] loss_net = 0.360083520412\n",
      "[90 / 40625] loss_net = 0.87302428484\n",
      "[100 / 40625] loss_net = 0.60107588768\n",
      "[110 / 40625] loss_net = 0.481993943453\n",
      "INFO:tensorflow:global_step/sec: 1.29998\n",
      "INFO:tensorflow:Recording summary at step 111.\n",
      "[120 / 40625] loss_net = 0.523851931095\n",
      "[130 / 40625] loss_net = 0.729732632637\n",
      "[140 / 40625] loss_net = 0.399135500193\n",
      "[150 / 40625] loss_net = 0.347614020109\n",
      "[160 / 40625] loss_net = 0.324895232916\n",
      "[170 / 40625] loss_net = 0.31880480051\n",
      "[180 / 40625] loss_net = 0.386804580688\n",
      "INFO:tensorflow:global_step/sec: 1.25002\n",
      "INFO:tensorflow:Recording summary at step 186.\n",
      "[190 / 40625] loss_net = 0.407843828201\n",
      "[200 / 40625] loss_net = 0.32561737299\n",
      "[210 / 40625] loss_net = 0.46406441927\n",
      "[220 / 40625] loss_net = 0.489325523376\n",
      "[230 / 40625] loss_net = 0.416265666485\n",
      "[240 / 40625] loss_net = 0.367281138897\n",
      "[250 / 40625] loss_net = 0.371007740498\n",
      "[260 / 40625] loss_net = 0.54803955555\n",
      "[270 / 40625] loss_net = 0.327215254307\n",
      "INFO:tensorflow:global_step/sec: 1.54503\n",
      "INFO:tensorflow:Recording summary at step 278.\n",
      "[280 / 40625] loss_net = 0.425497859716\n",
      "[290 / 40625] loss_net = 0.386522948742\n",
      "[300 / 40625] loss_net = 0.399098575115\n",
      "[310 / 40625] loss_net = 0.294533133507\n",
      "[320 / 40625] loss_net = 0.393341481686\n",
      "[330 / 40625] loss_net = 0.373045772314\n",
      "[340 / 40625] loss_net = 0.192044466734\n",
      "[350 / 40625] loss_net = 0.211030587554\n",
      "[360 / 40625] loss_net = 0.423671811819\n",
      "[370 / 40625] loss_net = 0.290693312883\n",
      "INFO:tensorflow:Saving checkpoint to path /data/logs/vggA_BN/model.ckpt\n",
      "INFO:tensorflow:global_step/sec: 1.55498\n",
      "INFO:tensorflow:Recording summary at step 372.\n",
      "[380 / 40625] loss_net = 0.394479393959\n",
      "[390 / 40625] loss_net = 0.301366329193\n",
      "[400 / 40625] loss_net = 0.397865414619\n",
      "[410 / 40625] loss_net = 0.303980350494\n",
      "[420 / 40625] loss_net = 0.49224615097\n",
      "[430 / 40625] loss_net = 0.299880087376\n",
      "[440 / 40625] loss_net = 0.444539785385\n",
      "INFO:tensorflow:global_step/sec: 1.16667\n",
      "INFO:tensorflow:Recording summary at step 442.\n",
      "[450 / 40625] loss_net = 0.260729193687\n",
      "[460 / 40625] loss_net = 0.189236953855\n",
      "[470 / 40625] loss_net = 0.192019656301\n",
      "[480 / 40625] loss_net = 0.373355597258\n",
      "[490 / 40625] loss_net = 0.200847104192\n",
      "[500 / 40625] loss_net = 0.353783816099\n",
      "[510 / 40625] loss_net = 0.363850712776\n",
      "[520 / 40625] loss_net = 0.268648564816\n",
      "[530 / 40625] loss_net = 0.26446801424\n",
      "INFO:tensorflow:global_step/sec: 1.56249\n",
      "INFO:tensorflow:Recording summary at step 535.\n",
      "[540 / 40625] loss_net = 0.406888514757\n",
      "[550 / 40625] loss_net = 0.243761450052\n",
      "[560 / 40625] loss_net = 0.233709827065\n",
      "[570 / 40625] loss_net = 0.266746044159\n",
      "[580 / 40625] loss_net = 0.236441373825\n",
      "[590 / 40625] loss_net = 0.259634912014\n",
      "[600 / 40625] loss_net = 0.368817746639\n",
      "[610 / 40625] loss_net = 0.416207671165\n",
      "[620 / 40625] loss_net = 0.185761362314\n",
      "INFO:tensorflow:global_step/sec: 1.55417\n",
      "INFO:tensorflow:Recording summary at step 629.\n",
      "[630 / 40625] loss_net = 0.492221832275\n",
      "[640 / 40625] loss_net = 0.411182820797\n",
      "[650 / 40625] loss_net = 0.185469552875\n",
      "[660 / 40625] loss_net = 0.233243405819\n",
      "[670 / 40625] loss_net = 0.169606715441\n",
      "[680 / 40625] loss_net = 0.440805196762\n",
      "[690 / 40625] loss_net = 0.222453087568\n",
      "[700 / 40625] loss_net = 0.203521743417\n",
      "[710 / 40625] loss_net = 0.11770068109\n",
      "[720 / 40625] loss_net = 0.239553466439\n",
      "INFO:tensorflow:global_step/sec: 1.55\n",
      "INFO:tensorflow:Recording summary at step 722.\n",
      "[730 / 40625] loss_net = 0.354948461056\n",
      "[740 / 40625] loss_net = 0.34181317687\n",
      "[750 / 40625] loss_net = 0.199226617813\n",
      "[760 / 40625] loss_net = 0.217005655169\n",
      "[770 / 40625] loss_net = 0.273989617825\n",
      "[780 / 40625] loss_net = 0.254687547684\n",
      "[790 / 40625] loss_net = 0.463621348143\n",
      "[800 / 40625] loss_net = 0.248148709536\n",
      "[810 / 40625] loss_net = 0.261944919825\n",
      "INFO:tensorflow:Saving checkpoint to path /data/logs/vggA_BN/model.ckpt\n",
      "INFO:tensorflow:Recording summary at step 816.\n",
      "[820 / 40625] loss_net = 0.232216462493\n",
      "[830 / 40625] loss_net = 0.310543179512\n"
     ]
    },
    {
     "ename": "KeyboardInterrupt",
     "evalue": "",
     "output_type": "error",
     "traceback": [
      "\u001b[0;31m---------------------------------------------------------------------------\u001b[0m",
      "\u001b[0;31mKeyboardInterrupt\u001b[0m                         Traceback (most recent call last)",
      "\u001b[0;32m<ipython-input-7-8754cdc3f491>\u001b[0m in \u001b[0;36m<module>\u001b[0;34m()\u001b[0m\n\u001b[1;32m      4\u001b[0m     \u001b[0;32mfor\u001b[0m \u001b[0mit\u001b[0m \u001b[0;32min\u001b[0m \u001b[0mrange\u001b[0m\u001b[0;34m(\u001b[0m\u001b[0mstart_iter\u001b[0m\u001b[0;34m,\u001b[0m \u001b[0miters\u001b[0m\u001b[0;34m)\u001b[0m\u001b[0;34m:\u001b[0m\u001b[0;34m\u001b[0m\u001b[0m\n\u001b[1;32m      5\u001b[0m \u001b[0;34m\u001b[0m\u001b[0m\n\u001b[0;32m----> 6\u001b[0;31m         \u001b[0mloss_value\u001b[0m \u001b[0;34m=\u001b[0m \u001b[0msess\u001b[0m\u001b[0;34m.\u001b[0m\u001b[0mrun\u001b[0m\u001b[0;34m(\u001b[0m\u001b[0mtrain_op\u001b[0m\u001b[0;34m)\u001b[0m\u001b[0;34m\u001b[0m\u001b[0m\n\u001b[0m\u001b[1;32m      7\u001b[0m \u001b[0;34m\u001b[0m\u001b[0m\n\u001b[1;32m      8\u001b[0m         \u001b[0;32mif\u001b[0m \u001b[0mit\u001b[0m \u001b[0;34m%\u001b[0m \u001b[0mLOG_EVERY_N\u001b[0m \u001b[0;34m==\u001b[0m \u001b[0;36m0\u001b[0m\u001b[0;34m:\u001b[0m\u001b[0;34m\u001b[0m\u001b[0m\n",
      "\u001b[0;32m/usr/local/lib/python2.7/dist-packages/tensorflow/python/client/session.pyc\u001b[0m in \u001b[0;36mrun\u001b[0;34m(self, fetches, feed_dict, options, run_metadata)\u001b[0m\n\u001b[1;32m    903\u001b[0m     \u001b[0;32mtry\u001b[0m\u001b[0;34m:\u001b[0m\u001b[0;34m\u001b[0m\u001b[0m\n\u001b[1;32m    904\u001b[0m       result = self._run(None, fetches, feed_dict, options_ptr,\n\u001b[0;32m--> 905\u001b[0;31m                          run_metadata_ptr)\n\u001b[0m\u001b[1;32m    906\u001b[0m       \u001b[0;32mif\u001b[0m \u001b[0mrun_metadata\u001b[0m\u001b[0;34m:\u001b[0m\u001b[0;34m\u001b[0m\u001b[0m\n\u001b[1;32m    907\u001b[0m         \u001b[0mproto_data\u001b[0m \u001b[0;34m=\u001b[0m \u001b[0mtf_session\u001b[0m\u001b[0;34m.\u001b[0m\u001b[0mTF_GetBuffer\u001b[0m\u001b[0;34m(\u001b[0m\u001b[0mrun_metadata_ptr\u001b[0m\u001b[0;34m)\u001b[0m\u001b[0;34m\u001b[0m\u001b[0m\n",
      "\u001b[0;32m/usr/local/lib/python2.7/dist-packages/tensorflow/python/client/session.pyc\u001b[0m in \u001b[0;36m_run\u001b[0;34m(self, handle, fetches, feed_dict, options, run_metadata)\u001b[0m\n\u001b[1;32m   1138\u001b[0m     \u001b[0;32mif\u001b[0m \u001b[0mfinal_fetches\u001b[0m \u001b[0;32mor\u001b[0m \u001b[0mfinal_targets\u001b[0m \u001b[0;32mor\u001b[0m \u001b[0;34m(\u001b[0m\u001b[0mhandle\u001b[0m \u001b[0;32mand\u001b[0m \u001b[0mfeed_dict_tensor\u001b[0m\u001b[0;34m)\u001b[0m\u001b[0;34m:\u001b[0m\u001b[0;34m\u001b[0m\u001b[0m\n\u001b[1;32m   1139\u001b[0m       results = self._do_run(handle, final_targets, final_fetches,\n\u001b[0;32m-> 1140\u001b[0;31m                              feed_dict_tensor, options, run_metadata)\n\u001b[0m\u001b[1;32m   1141\u001b[0m     \u001b[0;32melse\u001b[0m\u001b[0;34m:\u001b[0m\u001b[0;34m\u001b[0m\u001b[0m\n\u001b[1;32m   1142\u001b[0m       \u001b[0mresults\u001b[0m \u001b[0;34m=\u001b[0m \u001b[0;34m[\u001b[0m\u001b[0;34m]\u001b[0m\u001b[0;34m\u001b[0m\u001b[0m\n",
      "\u001b[0;32m/usr/local/lib/python2.7/dist-packages/tensorflow/python/client/session.pyc\u001b[0m in \u001b[0;36m_do_run\u001b[0;34m(self, handle, target_list, fetch_list, feed_dict, options, run_metadata)\u001b[0m\n\u001b[1;32m   1319\u001b[0m     \u001b[0;32mif\u001b[0m \u001b[0mhandle\u001b[0m \u001b[0;32mis\u001b[0m \u001b[0mNone\u001b[0m\u001b[0;34m:\u001b[0m\u001b[0;34m\u001b[0m\u001b[0m\n\u001b[1;32m   1320\u001b[0m       return self._do_call(_run_fn, feeds, fetches, targets, options,\n\u001b[0;32m-> 1321\u001b[0;31m                            run_metadata)\n\u001b[0m\u001b[1;32m   1322\u001b[0m     \u001b[0;32melse\u001b[0m\u001b[0;34m:\u001b[0m\u001b[0;34m\u001b[0m\u001b[0m\n\u001b[1;32m   1323\u001b[0m       \u001b[0;32mreturn\u001b[0m \u001b[0mself\u001b[0m\u001b[0;34m.\u001b[0m\u001b[0m_do_call\u001b[0m\u001b[0;34m(\u001b[0m\u001b[0m_prun_fn\u001b[0m\u001b[0;34m,\u001b[0m \u001b[0mhandle\u001b[0m\u001b[0;34m,\u001b[0m \u001b[0mfeeds\u001b[0m\u001b[0;34m,\u001b[0m \u001b[0mfetches\u001b[0m\u001b[0;34m)\u001b[0m\u001b[0;34m\u001b[0m\u001b[0m\n",
      "\u001b[0;32m/usr/local/lib/python2.7/dist-packages/tensorflow/python/client/session.pyc\u001b[0m in \u001b[0;36m_do_call\u001b[0;34m(self, fn, *args)\u001b[0m\n\u001b[1;32m   1325\u001b[0m   \u001b[0;32mdef\u001b[0m \u001b[0m_do_call\u001b[0m\u001b[0;34m(\u001b[0m\u001b[0mself\u001b[0m\u001b[0;34m,\u001b[0m \u001b[0mfn\u001b[0m\u001b[0;34m,\u001b[0m \u001b[0;34m*\u001b[0m\u001b[0margs\u001b[0m\u001b[0;34m)\u001b[0m\u001b[0;34m:\u001b[0m\u001b[0;34m\u001b[0m\u001b[0m\n\u001b[1;32m   1326\u001b[0m     \u001b[0;32mtry\u001b[0m\u001b[0;34m:\u001b[0m\u001b[0;34m\u001b[0m\u001b[0m\n\u001b[0;32m-> 1327\u001b[0;31m       \u001b[0;32mreturn\u001b[0m \u001b[0mfn\u001b[0m\u001b[0;34m(\u001b[0m\u001b[0;34m*\u001b[0m\u001b[0margs\u001b[0m\u001b[0;34m)\u001b[0m\u001b[0;34m\u001b[0m\u001b[0m\n\u001b[0m\u001b[1;32m   1328\u001b[0m     \u001b[0;32mexcept\u001b[0m \u001b[0merrors\u001b[0m\u001b[0;34m.\u001b[0m\u001b[0mOpError\u001b[0m \u001b[0;32mas\u001b[0m \u001b[0me\u001b[0m\u001b[0;34m:\u001b[0m\u001b[0;34m\u001b[0m\u001b[0m\n\u001b[1;32m   1329\u001b[0m       \u001b[0mmessage\u001b[0m \u001b[0;34m=\u001b[0m \u001b[0mcompat\u001b[0m\u001b[0;34m.\u001b[0m\u001b[0mas_text\u001b[0m\u001b[0;34m(\u001b[0m\u001b[0me\u001b[0m\u001b[0;34m.\u001b[0m\u001b[0mmessage\u001b[0m\u001b[0;34m)\u001b[0m\u001b[0;34m\u001b[0m\u001b[0m\n",
      "\u001b[0;32m/usr/local/lib/python2.7/dist-packages/tensorflow/python/client/session.pyc\u001b[0m in \u001b[0;36m_run_fn\u001b[0;34m(feed_dict, fetch_list, target_list, options, run_metadata)\u001b[0m\n\u001b[1;32m   1310\u001b[0m       \u001b[0mself\u001b[0m\u001b[0;34m.\u001b[0m\u001b[0m_extend_graph\u001b[0m\u001b[0;34m(\u001b[0m\u001b[0;34m)\u001b[0m\u001b[0;34m\u001b[0m\u001b[0m\n\u001b[1;32m   1311\u001b[0m       return self._call_tf_sessionrun(\n\u001b[0;32m-> 1312\u001b[0;31m           options, feed_dict, fetch_list, target_list, run_metadata)\n\u001b[0m\u001b[1;32m   1313\u001b[0m \u001b[0;34m\u001b[0m\u001b[0m\n\u001b[1;32m   1314\u001b[0m     \u001b[0;32mdef\u001b[0m \u001b[0m_prun_fn\u001b[0m\u001b[0;34m(\u001b[0m\u001b[0mhandle\u001b[0m\u001b[0;34m,\u001b[0m \u001b[0mfeed_dict\u001b[0m\u001b[0;34m,\u001b[0m \u001b[0mfetch_list\u001b[0m\u001b[0;34m)\u001b[0m\u001b[0;34m:\u001b[0m\u001b[0;34m\u001b[0m\u001b[0m\n",
      "\u001b[0;32m/usr/local/lib/python2.7/dist-packages/tensorflow/python/client/session.pyc\u001b[0m in \u001b[0;36m_call_tf_sessionrun\u001b[0;34m(self, options, feed_dict, fetch_list, target_list, run_metadata)\u001b[0m\n\u001b[1;32m   1418\u001b[0m         return tf_session.TF_Run(\n\u001b[1;32m   1419\u001b[0m             \u001b[0mself\u001b[0m\u001b[0;34m.\u001b[0m\u001b[0m_session\u001b[0m\u001b[0;34m,\u001b[0m \u001b[0moptions\u001b[0m\u001b[0;34m,\u001b[0m \u001b[0mfeed_dict\u001b[0m\u001b[0;34m,\u001b[0m \u001b[0mfetch_list\u001b[0m\u001b[0;34m,\u001b[0m \u001b[0mtarget_list\u001b[0m\u001b[0;34m,\u001b[0m\u001b[0;34m\u001b[0m\u001b[0m\n\u001b[0;32m-> 1420\u001b[0;31m             status, run_metadata)\n\u001b[0m\u001b[1;32m   1421\u001b[0m \u001b[0;34m\u001b[0m\u001b[0m\n\u001b[1;32m   1422\u001b[0m   \u001b[0;32mdef\u001b[0m \u001b[0m_call_tf_sessionprun\u001b[0m\u001b[0;34m(\u001b[0m\u001b[0mself\u001b[0m\u001b[0;34m,\u001b[0m \u001b[0mhandle\u001b[0m\u001b[0;34m,\u001b[0m \u001b[0mfeed_dict\u001b[0m\u001b[0;34m,\u001b[0m \u001b[0mfetch_list\u001b[0m\u001b[0;34m)\u001b[0m\u001b[0;34m:\u001b[0m\u001b[0;34m\u001b[0m\u001b[0m\n",
      "\u001b[0;31mKeyboardInterrupt\u001b[0m: "
     ]
    }
   ],
   "source": [
    "with supervisor.managed_session() as sess:\n",
    "\n",
    "    start_iter = sess.run(global_step)\n",
    "    for it in range(start_iter, iters):\n",
    "\n",
    "        loss_value = sess.run(train_op)\n",
    "\n",
    "        if it % LOG_EVERY_N == 0:\n",
    "            print('[{} / {}] loss_net = {}'.format(it, iters, loss_value))"
   ]
  },
  {
   "cell_type": "code",
   "execution_count": null,
   "metadata": {},
   "outputs": [],
   "source": []
  },
  {
   "cell_type": "code",
   "execution_count": null,
   "metadata": {},
   "outputs": [],
   "source": []
  },
  {
   "cell_type": "code",
   "execution_count": null,
   "metadata": {},
   "outputs": [],
   "source": []
  },
  {
   "cell_type": "code",
   "execution_count": null,
   "metadata": {},
   "outputs": [],
   "source": []
  },
  {
   "cell_type": "code",
   "execution_count": null,
   "metadata": {},
   "outputs": [],
   "source": []
  },
  {
   "cell_type": "code",
   "execution_count": null,
   "metadata": {},
   "outputs": [],
   "source": []
  }
 ],
 "metadata": {
  "kernelspec": {
   "display_name": "Python 2",
   "language": "python",
   "name": "python2"
  },
  "language_info": {
   "codemirror_mode": {
    "name": "ipython",
    "version": 2
   },
   "file_extension": ".py",
   "mimetype": "text/x-python",
   "name": "python",
   "nbconvert_exporter": "python",
   "pygments_lexer": "ipython2",
   "version": "2.7.12"
  }
 },
 "nbformat": 4,
 "nbformat_minor": 2
}
